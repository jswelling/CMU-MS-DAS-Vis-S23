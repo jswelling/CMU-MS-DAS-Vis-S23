{
 "cells": [
  {
   "cell_type": "code",
   "execution_count": null,
   "id": "9c09ca9f",
   "metadata": {},
   "outputs": [],
   "source": [
    "%matplotlib notebook\n",
    "#%matplotlib qt  # It's worth trying all of these- uncomment one at a time and restart the notebook\n",
    "#%matplotlib widget\n",
    "#%matplotlib notebook\n",
    "#%matplotlib inline\n",
    "import pandas as pd\n",
    "import matplotlib.pyplot as plt\n",
    "import seaborn as sns\n",
    "from mpl_toolkits.mplot3d import Axes3D  # A little special purpose example"
   ]
  },
  {
   "cell_type": "code",
   "execution_count": null,
   "id": "ff12269b",
   "metadata": {},
   "outputs": [],
   "source": [
    "diamonds = sns.load_dataset(\"diamonds\")\n",
    "\n",
    "print(len(diamonds))\n",
    "display(diamonds.head())"
   ]
  },
  {
   "cell_type": "markdown",
   "id": "366906dd",
   "metadata": {},
   "source": [
    "## This Graph Is Pure Matplotlib\n",
    "\n",
    "The *diamonds* data comes from the Seaborn example collection, but there is nothing Seaborn-specific happening here."
   ]
  },
  {
   "cell_type": "code",
   "execution_count": null,
   "id": "03d02c80",
   "metadata": {},
   "outputs": [],
   "source": [
    "few_diamonds = diamonds.head(100)\n",
    "x = few_diamonds['carat']\n",
    "y = few_diamonds['depth']\n",
    "z = few_diamonds['table']"
   ]
  },
  {
   "cell_type": "code",
   "execution_count": null,
   "id": "2d87d0fe",
   "metadata": {},
   "outputs": [],
   "source": [
    "fig = plt.figure()\n",
    "ax = fig.add_subplot(111, projection = '3d')\n",
    "\n",
    "ax.set_xlabel(\"Carat\")\n",
    "ax.set_ylabel(\"Depth\")\n",
    "ax.set_zlabel(\"Table\")\n",
    "\n",
    "ax.scatter(x, y, z)\n",
    "\n",
    "plt.show()"
   ]
  },
  {
   "cell_type": "markdown",
   "id": "1b5a6367",
   "metadata": {},
   "source": [
    "A lot of the beauty of Seaborn is just style settings.  They are set using *themes*.  Let's do the same graph,\n",
    "under the default Seaborn theme.\n",
    "\n",
    "Note that if you execute this and then go back and re-execute the cell above, it will be drawn \n",
    "with the Seaborn theme in effect!"
   ]
  },
  {
   "cell_type": "code",
   "execution_count": null,
   "id": "bf5b9477",
   "metadata": {},
   "outputs": [],
   "source": [
    "sns.set_theme()"
   ]
  },
  {
   "cell_type": "code",
   "execution_count": null,
   "id": "e313887d",
   "metadata": {},
   "outputs": [],
   "source": [
    "fig = plt.figure()\n",
    "ax = fig.add_subplot(111, projection = '3d')\n",
    "\n",
    "ax.set_xlabel(\"Carat\")\n",
    "ax.set_ylabel(\"Depth\")\n",
    "ax.set_zlabel(\"Table\")\n",
    "\n",
    "ax.scatter(x, y, z)\n",
    "\n",
    "plt.show()"
   ]
  },
  {
   "cell_type": "markdown",
   "id": "f5449634",
   "metadata": {},
   "source": [
    "## Now let's draw the Abscombes' Quartet data\n",
    "\n",
    "You'll need to download the dataset from the class data directory and edit the read_csv() call to point to\n",
    "the data you have downloaded.\n",
    "\n",
    "(Or, can you figure out how to apply read_csv to the URL of the dataset in our\n",
    "class github directory?)"
   ]
  },
  {
   "cell_type": "code",
   "execution_count": null,
   "id": "de563294",
   "metadata": {},
   "outputs": [],
   "source": [
    "anscombes_df = pd.read_csv('/home/welling/git/CMU-MS-DAS-Vis-S23/data/anscombes_quartet.csv')\n",
    "\n",
    "anscombes_df.head()"
   ]
  },
  {
   "cell_type": "code",
   "execution_count": null,
   "id": "0c4f1771",
   "metadata": {},
   "outputs": [],
   "source": [
    "sns.lmplot(data=anscombes_df,\n",
    "           x='x', y='y',\n",
    "           col='dataset')"
   ]
  },
  {
   "cell_type": "markdown",
   "id": "cb783c7e",
   "metadata": {},
   "source": [
    "## All styling is controlled by matplotlib 'rcParams' values\n",
    "\n",
    "Seaborn provides ways of setting them, with separate settings for axis attributes and line attributes.  See\n",
    "[Controlling Aesthetics](https://seaborn.pydata.org/tutorial/aesthetics.html) in the Tutorial and \n",
    "[set_theme()](https://seaborn.pydata.org/generated/seaborn.set_theme.html) for details."
   ]
  },
  {
   "cell_type": "code",
   "execution_count": null,
   "id": "c199f50d",
   "metadata": {},
   "outputs": [],
   "source": [
    "plt.rcParams  # All of matplotlib's internal settings"
   ]
  },
  {
   "cell_type": "code",
   "execution_count": null,
   "id": "1e8a2e41",
   "metadata": {},
   "outputs": [],
   "source": [
    "sns.axes_style()  # The ones controlled by sns.set_style() or the style part of set_theme()"
   ]
  },
  {
   "cell_type": "code",
   "execution_count": null,
   "id": "32c53cea",
   "metadata": {},
   "outputs": [],
   "source": [
    "sns.plotting_context()  # The ones controlled by sns.set_context() or the context part of set_theme()"
   ]
  },
  {
   "cell_type": "code",
   "execution_count": null,
   "id": "19b3583d",
   "metadata": {},
   "outputs": [],
   "source": [
    "sns.color_palette()"
   ]
  },
  {
   "cell_type": "markdown",
   "id": "6ef84490",
   "metadata": {},
   "source": [
    "## You can set styling for a particular plot...\n",
    "by using plotting_context() and/or set_style() as a Python context manager."
   ]
  },
  {
   "cell_type": "code",
   "execution_count": null,
   "id": "6e468360",
   "metadata": {},
   "outputs": [],
   "source": [
    "sns.lmplot(data=anscombes_df,\n",
    "           x='x', y='y',\n",
    "           col='dataset')"
   ]
  },
  {
   "cell_type": "code",
   "execution_count": null,
   "id": "7f179071",
   "metadata": {},
   "outputs": [],
   "source": [
    "with sns.axes_style('white'):\n",
    "    with sns.plotting_context('poster'):\n",
    "        sns.lmplot(data=anscombes_df,\n",
    "                   x='x', y='y',\n",
    "                   col='dataset')"
   ]
  },
  {
   "cell_type": "markdown",
   "id": "21473582",
   "metadata": {},
   "source": [
    "## Outside the context, we are back to normal"
   ]
  },
  {
   "cell_type": "code",
   "execution_count": null,
   "id": "a3e6808e",
   "metadata": {},
   "outputs": [],
   "source": [
    "sns.lmplot(data=anscombes_df,\n",
    "           x='x', y='y',\n",
    "           col='dataset')"
   ]
  },
  {
   "cell_type": "code",
   "execution_count": null,
   "id": "9a88deee",
   "metadata": {},
   "outputs": [],
   "source": []
  }
 ],
 "metadata": {
  "kernelspec": {
   "display_name": "Python (VisClassEnv)",
   "language": "python",
   "name": "visclassenv"
  },
  "language_info": {
   "codemirror_mode": {
    "name": "ipython",
    "version": 3
   },
   "file_extension": ".py",
   "mimetype": "text/x-python",
   "name": "python",
   "nbconvert_exporter": "python",
   "pygments_lexer": "ipython3",
   "version": "3.8.12"
  }
 },
 "nbformat": 4,
 "nbformat_minor": 5
}
