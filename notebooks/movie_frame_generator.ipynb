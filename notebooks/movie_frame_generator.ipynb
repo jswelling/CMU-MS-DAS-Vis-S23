{
 "cells": [
  {
   "cell_type": "code",
   "execution_count": null,
   "id": "89940cff",
   "metadata": {},
   "outputs": [],
   "source": [
    "import matplotlib.pyplot as plt\n",
    "import numpy as np\n",
    "from os import mkdir\n",
    "from os.path import join"
   ]
  },
  {
   "cell_type": "code",
   "execution_count": null,
   "id": "dcd55977",
   "metadata": {},
   "outputs": [],
   "source": [
    "bov_counter = 0\n",
    "\n",
    "def writeBOV(g):\n",
    "    \"\"\"g is presumed to be a numpy 2D array of doubles\"\"\"\n",
    "    global bov_counter\n",
    "    bovNm = 'file_%03d.bov' % bov_counter\n",
    "    dataNm = 'file_%03d.doubles' % bov_counter\n",
    "    bov_counter += 1\n",
    "    try:\n",
    "        mkdir('frames')\n",
    "    except FileExistsError:\n",
    "        pass\n",
    "    with open(join('frames', bovNm), 'w') as f:\n",
    "        f.write('TIME: %g\\n' % float(bov_counter))\n",
    "        f.write('DATA_FILE: %s\\n' % dataNm)\n",
    "        f.write('DATA_SIZE: %d %d 1\\n' % g.shape)\n",
    "        f.write('DATA_FORMAT: DOUBLE\\n')\n",
    "        f.write('VARIABLE: U\\n')\n",
    "        f.write('DATA_ENDIAN: LITTLE\\n')\n",
    "        f.write('CENTERING: ZONAL\\n')\n",
    "        f.write('BRICK_ORIGIN: 0. 0. 0.\\n')\n",
    "        f.write('BRICK_SIZE: 1.0 1.0 1.0\\n')\n",
    "    with open(join('frames', dataNm), 'w') as f:\n",
    "        g.T.tofile(f)  # BOV format expects Fortran order\n"
   ]
  },
  {
   "cell_type": "code",
   "execution_count": null,
   "id": "d6a3f51f",
   "metadata": {},
   "outputs": [],
   "source": [
    "#\n",
    "# Scaling constants\n",
    "#\n",
    "# You'll have to pick a value for dt which produces stable evolution\n",
    "# for your stencil!\n",
    "\n",
    "XDIM = 101\n",
    "YDIM = 101\n",
    "tMax = 5.0\n",
    "dx = 0.1\n",
    "dy = 0.1\n",
    "dt = 0.025 # FIX ME! \n",
    "vel = 1.0\n",
    "xMin = -(XDIM//2)*dx\n",
    "yMin = -(YDIM//2)*dy"
   ]
  },
  {
   "cell_type": "code",
   "execution_count": null,
   "id": "194e3028",
   "metadata": {},
   "outputs": [],
   "source": [
    "def initialize():\n",
    "    \"\"\"Create the grid and apply the initial condition\"\"\"\n",
    "    U = np.zeros([YDIM, XDIM])  # We just use this for shape\n",
    "\n",
    "    ctrX= 0.0\n",
    "    ctrY= 0.0\n",
    "    sigma= 0.25\n",
    "    maxU= 5.0\n",
    "\n",
    "    grid = np.indices(U.shape)\n",
    "    x = (grid[1] * dx) + xMin  # a full grid of X coordinates\n",
    "    y = (grid[0] * dy) + yMin  # a full grid of Y coordinates\n",
    "    distSqr = np.square(x - ctrX) + np.square(y - ctrY)\n",
    "    U = maxU * np.exp(-distSqr/(sigma*sigma))\n",
    "    \n",
    "    return U"
   ]
  },
  {
   "cell_type": "code",
   "execution_count": null,
   "id": "fb22c7f4",
   "metadata": {},
   "outputs": [],
   "source": [
    "# test writeBOV\n",
    "bov_counter = 0\n",
    "writeBOV(initialize())"
   ]
  },
  {
   "cell_type": "code",
   "execution_count": null,
   "id": "9d13362e",
   "metadata": {},
   "outputs": [],
   "source": [
    "def doTimeStep(U, UOld):\n",
    "    \"\"\"\n",
    "    Step your solution forward in time.  You need to calculate\n",
    "    UNew in the grid area [1:-1, 1:-1].  The 'patch the boundaries'\n",
    "    bit below will take care of the edges at i=0, i=XDIM-1, j=0,\n",
    "    and j=YDIM-1.  Note that the array indices are ordered like U[j][i]!\n",
    "    \"\"\"\n",
    "\n",
    "    xRatioSqr= (dt*dt*vel*vel)/(dx*dx)\n",
    "    yRatioSqr= (dt*dt*vel*vel)/(dy*dy)\n",
    "\n",
    "    UNew = np.empty_like(U)\n",
    "\n",
    "    dxxterm = xRatioSqr * (U[1:-1, 2:] + U[1:-1, 0:-2] - 2*U[1:-1, 1:-1])\n",
    "    dyyterm = yRatioSqr * (U[2:, 1:-1] + U[0:-2, 1:-1] - 2*U[1:-1, 1:-1])\n",
    "    UNew[1:-1, 1:-1] = 2*U[1:-1,1:-1] + (dxxterm + dyyterm) - UOld[1:-1, 1:-1]\n",
    "\n",
    "    # Patch the boundaries.  This mapping makes the surface into a torus.\n",
    "    UNew[:, 0] = UNew[:, 1]\n",
    "    UNew[:, -1] = UNew[:, -2]\n",
    "    UNew[0, :] = UNew[1, :]\n",
    "    UNew[-1, :] = UNew[-2, :]\n",
    "\n",
    "    return UNew"
   ]
  },
  {
   "cell_type": "code",
   "execution_count": null,
   "id": "8cd8b3ab",
   "metadata": {},
   "outputs": [],
   "source": [
    "def timeToOutput(t, count):\n",
    "    \"\"\"A little test to tell how often to dump output\"\"\"\n",
    "    return (count % 4 == 0)"
   ]
  },
  {
   "cell_type": "code",
   "execution_count": null,
   "id": "c38fb2c3",
   "metadata": {},
   "outputs": [],
   "source": [
    "\n",
    "U = initialize()\n",
    "\n",
    "UOld = np.copy(U)\n",
    "\n",
    "t = 0.0\n",
    "count = 0\n",
    "while t < tMax:\n",
    "    if timeToOutput(t, count):\n",
    "        writeBOV(U)\n",
    "        print ('Output at t = %s: min = %f, max = %f'\n",
    "               % (t, np.amin(U), np.amax(U)))\n",
    "    UNew = doTimeStep(U, UOld)\n",
    "    UOld = U\n",
    "    U = UNew\n",
    "    t += dt\n",
    "    count += 1"
   ]
  },
  {
   "cell_type": "code",
   "execution_count": null,
   "id": "727a7da2",
   "metadata": {},
   "outputs": [],
   "source": []
  }
 ],
 "metadata": {
  "kernelspec": {
   "display_name": "Python (VisClassEnv)",
   "language": "python",
   "name": "visclassenv"
  },
  "language_info": {
   "codemirror_mode": {
    "name": "ipython",
    "version": 3
   },
   "file_extension": ".py",
   "mimetype": "text/x-python",
   "name": "python",
   "nbconvert_exporter": "python",
   "pygments_lexer": "ipython3",
   "version": "3.8.12"
  }
 },
 "nbformat": 4,
 "nbformat_minor": 5
}
