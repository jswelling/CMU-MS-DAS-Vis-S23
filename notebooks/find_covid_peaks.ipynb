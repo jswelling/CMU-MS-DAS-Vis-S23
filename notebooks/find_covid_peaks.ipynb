{
 "cells": [
  {
   "cell_type": "code",
   "execution_count": null,
   "id": "d7c0126e",
   "metadata": {},
   "outputs": [],
   "source": [
    "%matplotlib notebook\n",
    "import pandas as pd\n",
    "import matplotlib.pyplot as plt\n",
    "import numpy as np\n",
    "import math\n",
    "import seaborn as sns\n",
    "from datetime import date\n",
    "from pprint import pprint"
   ]
  },
  {
   "cell_type": "code",
   "execution_count": null,
   "id": "58884082",
   "metadata": {},
   "outputs": [],
   "source": [
    "covid_df = pd.read_csv('/home/welling/git/CMU-MS-DAS-Vis-S22/data/covid19cases_test.csv')"
   ]
  },
  {
   "cell_type": "code",
   "execution_count": null,
   "id": "2fa80c9f",
   "metadata": {},
   "outputs": [],
   "source": [
    "covid_df.columns"
   ]
  },
  {
   "cell_type": "code",
   "execution_count": null,
   "id": "ac785db7",
   "metadata": {},
   "outputs": [],
   "source": [
    "def date_to_offset(date_str):\n",
    "    if isinstance(date_str, str):\n",
    "        return (date.fromisoformat(date_str) - date.fromisoformat('2020-02-01')).days\n",
    "    else:\n",
    "        return math.nan"
   ]
  },
  {
   "cell_type": "code",
   "execution_count": null,
   "id": "bc420fcf",
   "metadata": {},
   "outputs": [],
   "source": [
    "covid_df['date_offset']=covid_df[['date']].applymap(date_to_offset)\n"
   ]
  },
  {
   "cell_type": "code",
   "execution_count": null,
   "id": "77a8a98a",
   "metadata": {},
   "outputs": [],
   "source": [
    "copy_df = covid_df.copy()"
   ]
  },
  {
   "cell_type": "code",
   "execution_count": null,
   "id": "85e1ffd0",
   "metadata": {
    "scrolled": true
   },
   "outputs": [],
   "source": [
    "full_df = None\n",
    "for this_area, this_df in copy_df.groupby('area'):\n",
    "    sm_df = this_df.drop(columns=['area', 'area_type',\n",
    "                                  'date', 'date_offset',\n",
    "                                  'population']).rolling(window=7).mean()\n",
    "    name_map = {col:'sm_'+col for col in sm_df.columns}\n",
    "    sm_df = sm_df.rename(columns=name_map)\n",
    "    merged_df = pd.concat([this_df, sm_df], axis=1)\n",
    "    #print(merged_df.columns)\n",
    "    #display(merged_df.head(20))\n",
    "    full_df = merged_df if full_df is None else pd.concat([full_df, merged_df], axis=0)\n",
    "    print(this_area)"
   ]
  },
  {
   "cell_type": "code",
   "execution_count": null,
   "id": "44592ca9",
   "metadata": {},
   "outputs": [],
   "source": [
    "sns.relplot(data=full_df, x='date_offset', y='cases', kind='line')"
   ]
  },
  {
   "cell_type": "code",
   "execution_count": null,
   "id": "ea72ebb9",
   "metadata": {},
   "outputs": [],
   "source": [
    "sns.relplot(data=full_df, x='date_offset', y='sm_cases', kind='line')"
   ]
  },
  {
   "cell_type": "code",
   "execution_count": null,
   "id": "4eb1c3d2",
   "metadata": {},
   "outputs": [],
   "source": [
    "rslt_recs = []\n",
    "for this_area, this_df in full_df.groupby('area'):\n",
    "    try:\n",
    "        print(this_area)\n",
    "        rslt = {'area': this_area}\n",
    "        # zone 1\n",
    "        df = this_df.query('date_offset>10 & date_offset <= 250' )[['date_offset','sm_cases']]\n",
    "        #display(df)\n",
    "        idx = df['sm_cases'].idxmax()\n",
    "        #display(df.loc[idx])\n",
    "        rslt['surge_1_offset'] = df.loc[idx]['date_offset']\n",
    "        # zone 2\n",
    "        df = this_df.query('date_offset>250 & date_offset <= 500' )[['date_offset','sm_cases']]\n",
    "        idx = df['sm_cases'].idxmax()\n",
    "        #display(df.loc[idx])\n",
    "        rslt['surge_2_offset'] = df.loc[idx]['date_offset']\n",
    "        # zone 3\n",
    "        df = this_df.query('date_offset>500 & date_offset <= 675' )[['date_offset','sm_cases']]\n",
    "        idx = df['sm_cases'].idxmax()\n",
    "        #display(df.loc[idx])\n",
    "        rslt['surge_3_offset'] = df.loc[idx]['date_offset']\n",
    "        # zone 4\n",
    "        #df = this_df.query('date_offset>675 & date_offset <= 750' )[['date_offset','sm_cases']]\n",
    "        # The following tweak is to avoid a problem with Alpine's weak signal\n",
    "        df = this_df.query('date_offset>690 & date_offset <= 750' )[['date_offset','sm_cases']]\n",
    "        idx = df['sm_cases'].idxmax()\n",
    "        #display(df.loc[idx])\n",
    "        rslt['surge_4_offset'] = df.loc[idx]['date_offset']\n",
    "        rslt_recs.append(rslt)\n",
    "    except KeyError as e:\n",
    "        print(f'...skipped due to {e}')\n",
    "#pprint(rslt_recs)\n",
    "surge_offsets_df = pd.DataFrame(rslt_recs)"
   ]
  },
  {
   "cell_type": "code",
   "execution_count": null,
   "id": "aac9ee9c",
   "metadata": {},
   "outputs": [],
   "source": [
    "surge_offsets_df.head()"
   ]
  },
  {
   "cell_type": "code",
   "execution_count": null,
   "id": "811fa523",
   "metadata": {},
   "outputs": [],
   "source": [
    "def plot_county(area):\n",
    "    fig, axes = plt.subplots()\n",
    "    axes.set_title(area)\n",
    "    area_df = full_df[full_df['area']==area]\n",
    "    surge_4_date_offset = int(surge_offsets_df.query(f\"area=='{area}'\")['surge_4_offset'])\n",
    "    max_val = 1.1 * float(area_df[area_df['date_offset'] == surge_4_date_offset]['sm_cases'])\n",
    "    sns.lineplot(data=area_df, x='date_offset', y='sm_cases', ax=axes)\n",
    "    for col in [c for c in surge_offsets_df.columns if 'offset' in c]:\n",
    "        loc = float(surge_offsets_df.query(f\"area=='{area}'\")[col])\n",
    "        axes.plot([loc,loc],[0.0,max_val])\n"
   ]
  },
  {
   "cell_type": "code",
   "execution_count": null,
   "id": "d1889dd5",
   "metadata": {
    "scrolled": true
   },
   "outputs": [],
   "source": [
    "plot_county('San Francisco')\n",
    "plot_county('Alpine')\n",
    "n_samps = 10\n",
    "for area in np.random.choice(full_df['area'].unique(), size=n_samps):\n",
    "    plot_county(area)\n"
   ]
  },
  {
   "cell_type": "code",
   "execution_count": null,
   "id": "6f1ba8a4",
   "metadata": {},
   "outputs": [],
   "source": [
    "surge_offsets_df.to_csv('/tmp/covid_surge_offsets.tsv', sep='\\t')"
   ]
  },
  {
   "cell_type": "code",
   "execution_count": null,
   "id": "9a185b7b",
   "metadata": {},
   "outputs": [],
   "source": []
  }
 ],
 "metadata": {
  "kernelspec": {
   "display_name": "Python (VisClassEnv)",
   "language": "python",
   "name": "visclassenv"
  },
  "language_info": {
   "codemirror_mode": {
    "name": "ipython",
    "version": 3
   },
   "file_extension": ".py",
   "mimetype": "text/x-python",
   "name": "python",
   "nbconvert_exporter": "python",
   "pygments_lexer": "ipython3",
   "version": "3.8.12"
  }
 },
 "nbformat": 4,
 "nbformat_minor": 5
}
