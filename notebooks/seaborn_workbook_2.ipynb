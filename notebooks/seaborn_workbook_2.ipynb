{
 "cells": [
  {
   "cell_type": "code",
   "execution_count": null,
   "id": "9c09ca9f",
   "metadata": {},
   "outputs": [],
   "source": [
    "%matplotlib inline\n",
    "import pandas as pd\n",
    "import matplotlib.pyplot as plt\n",
    "import seaborn as sns"
   ]
  },
  {
   "cell_type": "code",
   "execution_count": null,
   "id": "7957a9dd",
   "metadata": {},
   "outputs": [],
   "source": [
    "penguins_df = sns.load_dataset(\"penguins\")"
   ]
  },
  {
   "cell_type": "code",
   "execution_count": null,
   "id": "8890146e",
   "metadata": {},
   "outputs": [],
   "source": [
    "print(f\"Data for {len(penguins_df)} specific penguins\")\n",
    "display(penguins_df.head())"
   ]
  },
  {
   "cell_type": "markdown",
   "id": "c55aaa90",
   "metadata": {},
   "source": [
    "# Here is the matplotlib equivalent of that first histogram plot\n",
    "\n",
    "Even for this simple plot, seaborn saves a lot of work.\n"
   ]
  },
  {
   "cell_type": "code",
   "execution_count": null,
   "id": "8429af27",
   "metadata": {},
   "outputs": [],
   "source": [
    "fig, ax = plt.subplots()\n",
    "label_list = []\n",
    "groups = penguins_df.groupby(['species'])\n",
    "sample_list = []\n",
    "for name, group_df in groups:\n",
    "    print(name, group_df.count()['flipper_length_mm'])\n",
    "    label_list.append(name)\n",
    "    sample_list.append(list(group_df['flipper_length_mm']))\n",
    "sample_list.reverse()  # To match the appearance of the seaborn graph\n",
    "label_list.reverse()\n",
    "plt.hist(sample_list, label=label_list, stacked=True)\n",
    "ax.set_ylabel('Count')\n",
    "ax.set_xlabel('flipper_length_mm')\n",
    "ax.legend(title='species')\n",
    "    "
   ]
  },
  {
   "cell_type": "markdown",
   "id": "7b5b085b",
   "metadata": {},
   "source": [
    "# Turning this into a kernel density plot would be a *lot* more work!"
   ]
  },
  {
   "cell_type": "markdown",
   "id": "81000d2e",
   "metadata": {},
   "source": [
    "# Take a moment to look at that 'multiple' option"
   ]
  },
  {
   "cell_type": "code",
   "execution_count": null,
   "id": "840158b8",
   "metadata": {},
   "outputs": [],
   "source": [
    "sns.histplot(data=penguins_df, x=\"flipper_length_mm\", hue=\"species\", multiple=\"stack\")"
   ]
  },
  {
   "cell_type": "code",
   "execution_count": null,
   "id": "98cd1a9b",
   "metadata": {},
   "outputs": [],
   "source": [
    "sns.histplot(data=penguins_df, x=\"flipper_length_mm\", hue=\"species\", multiple=\"layer\")"
   ]
  },
  {
   "cell_type": "code",
   "execution_count": null,
   "id": "178dff8b",
   "metadata": {},
   "outputs": [],
   "source": [
    "sns.histplot(data=penguins_df, x=\"flipper_length_mm\", hue=\"species\", multiple=\"dodge\")"
   ]
  },
  {
   "cell_type": "code",
   "execution_count": null,
   "id": "2ac910c9",
   "metadata": {},
   "outputs": [],
   "source": [
    "sns.histplot(data=penguins_df, x=\"flipper_length_mm\", hue=\"species\", multiple=\"fill\")"
   ]
  },
  {
   "cell_type": "markdown",
   "id": "0b9ecdc7",
   "metadata": {},
   "source": [
    "# Understanding Figure-level vs Axes-level Plots\n",
    "Under the hood, I believe it's equivalent to calling\n",
    "```\n",
    "fig, ax_array = plt.subplots(...)\n",
    "```\n",
    "and then using one or more of the subplots to explicitly draw things like the legend.  \n",
    "\n",
    "*But* we will see later that you can save up plot components and then plot the whole thing at the end,\n",
    "which implies that:\n",
    "* The components are getting cached first...\n",
    "* and then, when it is time to plot them, plt.subplots() is called...\n",
    "* and finally the individual axes-level plots are drawn into their appropriate axes.\n",
    "Knowing this helps with understanding the comments about **FacetGrid** and grid sizing."
   ]
  },
  {
   "cell_type": "markdown",
   "id": "060b6cd8",
   "metadata": {},
   "source": [
    "# Let's actually run the *jointplot()* example:"
   ]
  },
  {
   "cell_type": "code",
   "execution_count": null,
   "id": "4277fe7c",
   "metadata": {},
   "outputs": [],
   "source": [
    "sns.jointplot(data=penguins_df, x=\"flipper_length_mm\", y=\"bill_length_mm\", hue=\"species\")"
   ]
  },
  {
   "cell_type": "markdown",
   "id": "c13fbd65",
   "metadata": {},
   "source": [
    "# Note that it takes a bit of time to draw.\n",
    "Seaborn is running a fair amount of python code on top of matplotlib, which is also a fair amount of python code.\n",
    "This convenience isn't free."
   ]
  },
  {
   "cell_type": "code",
   "execution_count": null,
   "id": "67ab6541",
   "metadata": {},
   "outputs": [],
   "source": []
  }
 ],
 "metadata": {
  "kernelspec": {
   "display_name": "Python (VisClassEnv)",
   "language": "python",
   "name": "visclassenv"
  },
  "language_info": {
   "codemirror_mode": {
    "name": "ipython",
    "version": 3
   },
   "file_extension": ".py",
   "mimetype": "text/x-python",
   "name": "python",
   "nbconvert_exporter": "python",
   "pygments_lexer": "ipython3",
   "version": "3.8.12"
  }
 },
 "nbformat": 4,
 "nbformat_minor": 5
}
