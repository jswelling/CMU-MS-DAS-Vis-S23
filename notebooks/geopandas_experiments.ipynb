{
 "cells": [
  {
   "cell_type": "code",
   "execution_count": null,
   "id": "ba3f2819",
   "metadata": {},
   "outputs": [],
   "source": [
    "%matplotlib qt\n",
    "import matplotlib.pyplot as plt\n",
    "import pandas as pd\n",
    "import geopandas as gpd\n",
    "from pyproj import CRS\n",
    "from geopy.geocoders import Nominatim"
   ]
  },
  {
   "cell_type": "code",
   "execution_count": null,
   "id": "1ca861f1",
   "metadata": {},
   "outputs": [],
   "source": [
    "gdf = gpd.read_file('/home/welling/geo/USA/all/tl_2021_us_county.shp')"
   ]
  },
  {
   "cell_type": "code",
   "execution_count": null,
   "id": "0277a662",
   "metadata": {},
   "outputs": [],
   "source": [
    "gdf.columns"
   ]
  },
  {
   "cell_type": "code",
   "execution_count": null,
   "id": "0e3254ff",
   "metadata": {},
   "outputs": [],
   "source": [
    "gdf = gdf[gdf.STATEFP=='06']  # select CA"
   ]
  },
  {
   "cell_type": "code",
   "execution_count": null,
   "id": "a9c216e0",
   "metadata": {},
   "outputs": [],
   "source": [
    "gdf.head()"
   ]
  },
  {
   "cell_type": "code",
   "execution_count": null,
   "id": "433392b7",
   "metadata": {},
   "outputs": [],
   "source": [
    "def add_area_and_label_coords(some_gdf):\n",
    "    some_gdf['area'] = some_gdf.area\n",
    "    some_gdf['coords'] = some_gdf['geometry'].apply(lambda x: x.representative_point().coords[:])\n",
    "    some_gdf['coords'] = [coords[0] for coords in some_gdf['coords']]"
   ]
  },
  {
   "cell_type": "code",
   "execution_count": null,
   "id": "4fe2f27f",
   "metadata": {},
   "outputs": [],
   "source": [
    "def plot_with_labels(some_gdf, ax, name_col=None, field_col=None, **kwargs):\n",
    "    if field_col is None:\n",
    "        some_gdf.plot(ax=ax, **kwargs)\n",
    "    else:\n",
    "        some_gdf.plot(column=field_col, ax=ax, legend=True, **kwargs)\n",
    "    if name_col is not None:\n",
    "        for idx, row in some_gdf.iterrows():\n",
    "            ax.annotate(text=row[name_col], xy=row['coords'],\n",
    "                         horizontalalignment='center')"
   ]
  },
  {
   "cell_type": "code",
   "execution_count": null,
   "id": "fd1adc7e",
   "metadata": {},
   "outputs": [],
   "source": [
    "def calc_overall_centroid(some_gdf):\n",
    "    \"\"\"\n",
    "    Use the 'coords' and 'area' columns to estimate an overall centroid\n",
    "    \"\"\"\n",
    "    sum_x = 0.0\n",
    "    sum_y = 0.0\n",
    "    sum_area = 0.0\n",
    "    for idx, row in some_gdf.iterrows():\n",
    "        coord_x, coord_y = row['coords']\n",
    "        sum_x += coord_x * row['area']\n",
    "        sum_y += coord_y * row['area']\n",
    "        sum_area += row['area']\n",
    "    centroid_x = sum_x / sum_area\n",
    "    centroid_y = sum_y / sum_area\n",
    "    return centroid_x, centroid_y"
   ]
  },
  {
   "cell_type": "code",
   "execution_count": null,
   "id": "305a52c8",
   "metadata": {},
   "outputs": [],
   "source": [
    "add_area_and_label_coords(gdf)\n",
    "centroid_x, centroid_y = calc_overall_centroid(gdf)\n",
    "print(centroid_x, centroid_y)"
   ]
  },
  {
   "cell_type": "code",
   "execution_count": null,
   "id": "e02664cd",
   "metadata": {},
   "outputs": [],
   "source": [
    "fig, axes = plt.subplots(1,2)\n",
    "plot_with_labels(gdf, field_col='area', name_col='NAME', ax=axes[0])\n",
    "plot_with_labels(gdf, ax=axes[1])"
   ]
  },
  {
   "cell_type": "code",
   "execution_count": null,
   "id": "93db29d4",
   "metadata": {},
   "outputs": [],
   "source": [
    "gdf.crs\n"
   ]
  },
  {
   "cell_type": "markdown",
   "id": "114b5984",
   "metadata": {},
   "source": [
    "# Orthographic projection centered on our centroid\n",
    "See [Orthographic projection with pyproj for penguin tracking in Antarctica](https://towardsdatascience.com/orthographic-projection-with-pyproj-for-penguin-tracking-in-antarctica-18cd2bf2d570) for the trick."
   ]
  },
  {
   "cell_type": "code",
   "execution_count": null,
   "id": "88352aa0",
   "metadata": {},
   "outputs": [],
   "source": [
    "lat = centroid_y\n",
    "lon = centroid_x\n",
    "ortho = CRS.from_proj4(\"+proj=ortho +lat_0={} +lon_0={} +x_0=0 +y_0=0 +a=6370997 +b=6370997 +units=m +no_defs\".format(lat, lon))"
   ]
  },
  {
   "cell_type": "code",
   "execution_count": null,
   "id": "cd346a3d",
   "metadata": {},
   "outputs": [],
   "source": [
    "ortho_gdf = gdf.to_crs(ortho)\n",
    "ortho_gdf.crs"
   ]
  },
  {
   "cell_type": "code",
   "execution_count": null,
   "id": "2e365c57",
   "metadata": {},
   "outputs": [],
   "source": [
    "utm_proj = CRS.from_proj4(\"+proj=utm +zone=10 +north\")\n",
    "print(utm_proj)"
   ]
  },
  {
   "cell_type": "code",
   "execution_count": null,
   "id": "64eca358",
   "metadata": {},
   "outputs": [],
   "source": [
    "utm_gdf = gdf.to_crs(utm_proj)\n",
    "utm_gdf.crs"
   ]
  },
  {
   "cell_type": "code",
   "execution_count": null,
   "id": "320f766c",
   "metadata": {},
   "outputs": [],
   "source": [
    "utm_gdf.plot()"
   ]
  },
  {
   "cell_type": "code",
   "execution_count": null,
   "id": "d432cb03",
   "metadata": {},
   "outputs": [],
   "source": [
    "fig, axes = plt.subplots(1,2)\n",
    "plot_with_labels(gdf, ax=axes[0])\n",
    "plot_with_labels(ortho_gdf, ax=axes[1])"
   ]
  },
  {
   "cell_type": "code",
   "execution_count": null,
   "id": "57516a4f",
   "metadata": {},
   "outputs": [],
   "source": [
    "new_gdf = gdf.to_crs(\"EPSG:32633\")"
   ]
  },
  {
   "cell_type": "code",
   "execution_count": null,
   "id": "020bd68c",
   "metadata": {
    "scrolled": false
   },
   "outputs": [],
   "source": [
    "new_gdf.crs"
   ]
  },
  {
   "cell_type": "code",
   "execution_count": null,
   "id": "7b9a2a2f",
   "metadata": {},
   "outputs": [],
   "source": [
    "fig, axes = plt.subplots(1,2)\n",
    "plot_with_labels(gdf, ax=axes[0])\n",
    "plot_with_labels(new_gdf, ax=axes[1])"
   ]
  },
  {
   "cell_type": "code",
   "execution_count": null,
   "id": "26903387",
   "metadata": {},
   "outputs": [],
   "source": [
    "gdf = gpd.read_file('/home/welling/geo/USA/all/tl_2021_us_county.shp')\n",
    "display(gdf.columns)\n",
    "gdf = gdf[gdf.STATEFP=='42']  # select PA\n",
    "add_area_and_label_coords(gdf)"
   ]
  },
  {
   "cell_type": "code",
   "execution_count": null,
   "id": "ae9033ce",
   "metadata": {},
   "outputs": [],
   "source": [
    "def build_fips_string(row):\n",
    "    return f\"{row['STATEFP']}{row['COUNTYFP']}\"\n",
    "gdf['fips_string'] = gdf.apply(build_fips_string, axis=1)\n",
    "gdf.head()"
   ]
  },
  {
   "cell_type": "code",
   "execution_count": null,
   "id": "90ca2770",
   "metadata": {},
   "outputs": [],
   "source": [
    "fig, axes = plt.subplots(2,1)\n",
    "plot_with_labels(gdf, name_col='NAME', ax=axes[0])\n",
    "plot_with_labels(gdf, name_col='fips_string', ax=axes[1])"
   ]
  },
  {
   "cell_type": "code",
   "execution_count": null,
   "id": "61521a7a",
   "metadata": {},
   "outputs": [],
   "source": [
    "geolocator = Nominatim(user_agent=\"ms_das_vis\")\n",
    "location = geolocator.geocode(\"425 South Craig St., Pittsburgh\")\n",
    "print(f'address: {location.address}')\n",
    "print(f'point: {location.point}')\n",
    "#print(f'raw: {location.raw}')\n",
    "print(f'altitude: {location.altitude}')\n",
    "print(f'latitude: {location.latitude}')\n",
    "print(f'longitude: {location.longitude}')"
   ]
  },
  {
   "cell_type": "code",
   "execution_count": null,
   "id": "7f288828",
   "metadata": {},
   "outputs": [],
   "source": [
    "geolocator.reverse((40.44501531264918, -79.94863300565322), exactly_one=False)  # (latitude, longitude)"
   ]
  },
  {
   "cell_type": "code",
   "execution_count": null,
   "id": "077b3429",
   "metadata": {},
   "outputs": [],
   "source": []
  }
 ],
 "metadata": {
  "kernelspec": {
   "display_name": "Python (VisClassEnv)",
   "language": "python",
   "name": "visclassenv"
  },
  "language_info": {
   "codemirror_mode": {
    "name": "ipython",
    "version": 3
   },
   "file_extension": ".py",
   "mimetype": "text/x-python",
   "name": "python",
   "nbconvert_exporter": "python",
   "pygments_lexer": "ipython3",
   "version": "3.8.12"
  }
 },
 "nbformat": 4,
 "nbformat_minor": 5
}
